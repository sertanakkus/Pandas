{
 "cells": [
  {
   "cell_type": "code",
   "execution_count": 1,
   "id": "46655b9f",
   "metadata": {},
   "outputs": [],
   "source": [
    "import numpy as np\n",
    "import pandas as pd"
   ]
  },
  {
   "cell_type": "markdown",
   "id": "bf4fb91c",
   "metadata": {},
   "source": [
    "## 1- Create DataFrame"
   ]
  },
  {
   "cell_type": "code",
   "execution_count": 2,
   "id": "6cfd33f4",
   "metadata": {},
   "outputs": [
    {
     "name": "stdout",
     "output_type": "stream",
     "text": [
      "    name  age gender      job\n",
      "0  alice   19      F  student\n",
      "1   john   26      M  student\n",
      "   name  age gender      job\n",
      "0  eric   22      M  student\n",
      "1  paul   58      F  manager\n",
      "    name  age gender        job\n",
      "0  peter   33      M   engineer\n",
      "1  julie   44      F  scientist\n"
     ]
    }
   ],
   "source": [
    "columns = ['name', 'age', 'gender', 'job']\n",
    "\n",
    "user1 = pd.DataFrame([['alice', 19, \"F\", \"student\"],\n",
    "                      ['john', 26, \"M\", \"student\"]],\n",
    "                     columns=columns)\n",
    "\n",
    "user2 = pd.DataFrame([['eric', 22, \"M\", \"student\"],\n",
    "                      ['paul', 58, \"F\", \"manager\"]],\n",
    "                     columns=columns)\n",
    "\n",
    "user3 = pd.DataFrame(dict(name=['peter', 'julie'],\n",
    "                          age=[33, 44], gender=['M', 'F'],\n",
    "                          job=['engineer', 'scientist']))\n",
    "print(user1)\n",
    "print(user2)\n",
    "print(user3)"
   ]
  },
  {
   "cell_type": "markdown",
   "id": "6a04a316",
   "metadata": {},
   "source": [
    "## 2- Combining DataFrames"
   ]
  },
  {
   "cell_type": "markdown",
   "id": "b94eb492",
   "metadata": {},
   "source": [
    "### Concatenate DataFrame"
   ]
  },
  {
   "cell_type": "code",
   "execution_count": 3,
   "id": "56d80834",
   "metadata": {},
   "outputs": [
    {
     "name": "stdout",
     "output_type": "stream",
     "text": [
      "    name  age gender      job\n",
      "0  alice   19      F  student\n",
      "1   john   26      M  student \n",
      "    height\n",
      "0    1.65\n",
      "1    1.80\n",
      "    name  age gender      job  height\n",
      "0  alice   19      F  student    1.65\n",
      "1   john   26      M  student    1.80\n"
     ]
    }
   ],
   "source": [
    "# Concatenate columns (axis = 1).\n",
    "height = pd.DataFrame(dict(height=[1.65, 1.8]))\n",
    "print(user1, \"\\n\", height)\n",
    "\n",
    "print(pd.concat([user1, height], axis=1))"
   ]
  },
  {
   "cell_type": "code",
   "execution_count": 4,
   "id": "09f96cdc",
   "metadata": {},
   "outputs": [
    {
     "name": "stdout",
     "output_type": "stream",
     "text": [
      "    name  age gender        job\n",
      "0  alice   19      F    student\n",
      "1   john   26      M    student\n",
      "0   eric   22      M    student\n",
      "1   paul   58      F    manager\n",
      "0  peter   33      M   engineer\n",
      "1  julie   44      F  scientist\n"
     ]
    }
   ],
   "source": [
    "# Concatenate rows (default: axis = 0)\n",
    "users = pd.concat([user1, user2, user3])\n",
    "print(users)"
   ]
  },
  {
   "cell_type": "code",
   "execution_count": 5,
   "id": "287e501b",
   "metadata": {},
   "outputs": [
    {
     "data": {
      "text/html": [
       "<div>\n",
       "<style scoped>\n",
       "    .dataframe tbody tr th:only-of-type {\n",
       "        vertical-align: middle;\n",
       "    }\n",
       "\n",
       "    .dataframe tbody tr th {\n",
       "        vertical-align: top;\n",
       "    }\n",
       "\n",
       "    .dataframe thead th {\n",
       "        text-align: right;\n",
       "    }\n",
       "</style>\n",
       "<table border=\"1\" class=\"dataframe\">\n",
       "  <thead>\n",
       "    <tr style=\"text-align: right;\">\n",
       "      <th></th>\n",
       "      <th>name</th>\n",
       "      <th>age</th>\n",
       "      <th>gender</th>\n",
       "      <th>job</th>\n",
       "    </tr>\n",
       "  </thead>\n",
       "  <tbody>\n",
       "    <tr>\n",
       "      <th>0</th>\n",
       "      <td>alice</td>\n",
       "      <td>19</td>\n",
       "      <td>F</td>\n",
       "      <td>student</td>\n",
       "    </tr>\n",
       "    <tr>\n",
       "      <th>1</th>\n",
       "      <td>john</td>\n",
       "      <td>26</td>\n",
       "      <td>M</td>\n",
       "      <td>student</td>\n",
       "    </tr>\n",
       "    <tr>\n",
       "      <th>0</th>\n",
       "      <td>eric</td>\n",
       "      <td>22</td>\n",
       "      <td>M</td>\n",
       "      <td>student</td>\n",
       "    </tr>\n",
       "    <tr>\n",
       "      <th>1</th>\n",
       "      <td>paul</td>\n",
       "      <td>58</td>\n",
       "      <td>F</td>\n",
       "      <td>manager</td>\n",
       "    </tr>\n",
       "  </tbody>\n",
       "</table>\n",
       "</div>"
      ],
      "text/plain": [
       "    name  age gender      job\n",
       "0  alice   19      F  student\n",
       "1   john   26      M  student\n",
       "0   eric   22      M  student\n",
       "1   paul   58      F  manager"
      ]
     },
     "execution_count": 5,
     "metadata": {},
     "output_type": "execute_result"
    }
   ],
   "source": [
    "# Concatenate rows: append\n",
    "user1.append(user2)"
   ]
  },
  {
   "cell_type": "markdown",
   "id": "1af29c63",
   "metadata": {},
   "source": [
    "### Join DataFrame"
   ]
  },
  {
   "cell_type": "code",
   "execution_count": 6,
   "id": "2cf5fa79",
   "metadata": {},
   "outputs": [
    {
     "name": "stdout",
     "output_type": "stream",
     "text": [
      "    name  height\n",
      "0  alice     165\n",
      "1   john     180\n",
      "2   eric     175\n",
      "3  julie     171\n"
     ]
    }
   ],
   "source": [
    "user4 = pd.DataFrame(dict(name=['alice', 'john', 'eric', 'julie'],\n",
    "height=[165, 180, 175, 171]))\n",
    "print(user4)"
   ]
  },
  {
   "cell_type": "code",
   "execution_count": 7,
   "id": "e40dd892",
   "metadata": {},
   "outputs": [
    {
     "name": "stdout",
     "output_type": "stream",
     "text": [
      "    name  age gender        job  height\n",
      "0  alice   19      F    student     165\n",
      "1   john   26      M    student     180\n",
      "2   eric   22      M    student     175\n",
      "3  julie   44      F  scientist     171\n"
     ]
    }
   ],
   "source": [
    "# Use intersection of keys from both frames\n",
    "merge_inter = pd.merge(users, user4)\n",
    "\n",
    "print(merge_inter)"
   ]
  },
  {
   "cell_type": "code",
   "execution_count": 8,
   "id": "1dfe62de",
   "metadata": {},
   "outputs": [
    {
     "name": "stdout",
     "output_type": "stream",
     "text": [
      "    name  age gender        job  height\n",
      "0  alice   19      F    student   165.0\n",
      "1   john   26      M    student   180.0\n",
      "2   eric   22      M    student   175.0\n",
      "3   paul   58      F    manager     NaN\n",
      "4  peter   33      M   engineer     NaN\n",
      "5  julie   44      F  scientist   171.0\n"
     ]
    }
   ],
   "source": [
    "# Use union of keys from both frames\n",
    "users = pd.merge(users, user4, on=\"name\", how='outer')\n",
    "print(users)"
   ]
  },
  {
   "cell_type": "markdown",
   "id": "24cdec87",
   "metadata": {},
   "source": [
    "### Reshaping by pivoting"
   ]
  },
  {
   "cell_type": "code",
   "execution_count": 9,
   "id": "cd584060",
   "metadata": {},
   "outputs": [
    {
     "name": "stdout",
     "output_type": "stream",
     "text": [
      "     name variable      value\n",
      "0   alice      age         19\n",
      "1    john      age         26\n",
      "2    eric      age         22\n",
      "3    paul      age         58\n",
      "4   peter      age         33\n",
      "5   julie      age         44\n",
      "6   alice   gender          F\n",
      "7    john   gender          M\n",
      "8    eric   gender          M\n",
      "9    paul   gender          F\n",
      "10  peter   gender          M\n",
      "11  julie   gender          F\n",
      "12  alice      job    student\n",
      "13   john      job    student\n",
      "14   eric      job    student\n",
      "15   paul      job    manager\n",
      "16  peter      job   engineer\n",
      "17  julie      job  scientist\n",
      "18  alice   height      165.0\n",
      "19   john   height      180.0\n",
      "20   eric   height      175.0\n",
      "21   paul   height        NaN\n",
      "22  peter   height        NaN\n",
      "23  julie   height      171.0\n"
     ]
    }
   ],
   "source": [
    "# \"Unpivots\" a DataFrame from wide format to long (stacked) format\n",
    "staked = pd.melt(users, id_vars=\"name\", var_name=\"variable\", value_name=\"value\")\n",
    "print(staked)"
   ]
  },
  {
   "cell_type": "code",
   "execution_count": 10,
   "id": "20412686",
   "metadata": {},
   "outputs": [
    {
     "name": "stdout",
     "output_type": "stream",
     "text": [
      "variable age gender height        job\n",
      "name                                 \n",
      "alice     19      F  165.0    student\n",
      "eric      22      M  175.0    student\n",
      "john      26      M  180.0    student\n",
      "julie     44      F  171.0  scientist\n",
      "paul      58      F    NaN    manager\n",
      "peter     33      M    NaN   engineer\n"
     ]
    }
   ],
   "source": [
    "# \"pivots\" a DataFrame from long (stacked) format to wide format\n",
    "print(staked.pivot(index='name', columns='variable', values='value'))"
   ]
  },
  {
   "cell_type": "markdown",
   "id": "b8c5ee68",
   "metadata": {},
   "source": [
    "## Summarizing"
   ]
  },
  {
   "cell_type": "code",
   "execution_count": 11,
   "id": "3d02d5bd",
   "metadata": {},
   "outputs": [
    {
     "data": {
      "text/html": [
       "<div>\n",
       "<style scoped>\n",
       "    .dataframe tbody tr th:only-of-type {\n",
       "        vertical-align: middle;\n",
       "    }\n",
       "\n",
       "    .dataframe tbody tr th {\n",
       "        vertical-align: top;\n",
       "    }\n",
       "\n",
       "    .dataframe thead th {\n",
       "        text-align: right;\n",
       "    }\n",
       "</style>\n",
       "<table border=\"1\" class=\"dataframe\">\n",
       "  <thead>\n",
       "    <tr style=\"text-align: right;\">\n",
       "      <th></th>\n",
       "      <th>name</th>\n",
       "      <th>age</th>\n",
       "      <th>gender</th>\n",
       "      <th>job</th>\n",
       "      <th>height</th>\n",
       "    </tr>\n",
       "  </thead>\n",
       "  <tbody>\n",
       "    <tr>\n",
       "      <th>1</th>\n",
       "      <td>john</td>\n",
       "      <td>26</td>\n",
       "      <td>M</td>\n",
       "      <td>student</td>\n",
       "      <td>180.0</td>\n",
       "    </tr>\n",
       "    <tr>\n",
       "      <th>2</th>\n",
       "      <td>eric</td>\n",
       "      <td>22</td>\n",
       "      <td>M</td>\n",
       "      <td>student</td>\n",
       "      <td>175.0</td>\n",
       "    </tr>\n",
       "    <tr>\n",
       "      <th>3</th>\n",
       "      <td>paul</td>\n",
       "      <td>58</td>\n",
       "      <td>F</td>\n",
       "      <td>manager</td>\n",
       "      <td>NaN</td>\n",
       "    </tr>\n",
       "    <tr>\n",
       "      <th>4</th>\n",
       "      <td>peter</td>\n",
       "      <td>33</td>\n",
       "      <td>M</td>\n",
       "      <td>engineer</td>\n",
       "      <td>NaN</td>\n",
       "    </tr>\n",
       "    <tr>\n",
       "      <th>5</th>\n",
       "      <td>julie</td>\n",
       "      <td>44</td>\n",
       "      <td>F</td>\n",
       "      <td>scientist</td>\n",
       "      <td>171.0</td>\n",
       "    </tr>\n",
       "  </tbody>\n",
       "</table>\n",
       "</div>"
      ],
      "text/plain": [
       "    name  age gender        job  height\n",
       "1   john   26      M    student   180.0\n",
       "2   eric   22      M    student   175.0\n",
       "3   paul   58      F    manager     NaN\n",
       "4  peter   33      M   engineer     NaN\n",
       "5  julie   44      F  scientist   171.0"
      ]
     },
     "execution_count": 11,
     "metadata": {},
     "output_type": "execute_result"
    }
   ],
   "source": [
    "users        # print the first 30 and last 30 rows\n",
    "type(users)  # DataFrame\n",
    "users.head() # print the first 5 rows\n",
    "users.tail() # print the last 5 rows"
   ]
  },
  {
   "cell_type": "code",
   "execution_count": 12,
   "id": "d3eae565",
   "metadata": {},
   "outputs": [
    {
     "data": {
      "text/html": [
       "<div>\n",
       "<style scoped>\n",
       "    .dataframe tbody tr th:only-of-type {\n",
       "        vertical-align: middle;\n",
       "    }\n",
       "\n",
       "    .dataframe tbody tr th {\n",
       "        vertical-align: top;\n",
       "    }\n",
       "\n",
       "    .dataframe thead th {\n",
       "        text-align: right;\n",
       "    }\n",
       "</style>\n",
       "<table border=\"1\" class=\"dataframe\">\n",
       "  <thead>\n",
       "    <tr style=\"text-align: right;\">\n",
       "      <th></th>\n",
       "      <th>count</th>\n",
       "      <th>unique</th>\n",
       "      <th>top</th>\n",
       "      <th>freq</th>\n",
       "      <th>mean</th>\n",
       "      <th>std</th>\n",
       "      <th>min</th>\n",
       "      <th>25%</th>\n",
       "      <th>50%</th>\n",
       "      <th>75%</th>\n",
       "      <th>max</th>\n",
       "    </tr>\n",
       "  </thead>\n",
       "  <tbody>\n",
       "    <tr>\n",
       "      <th>name</th>\n",
       "      <td>6</td>\n",
       "      <td>6</td>\n",
       "      <td>peter</td>\n",
       "      <td>1</td>\n",
       "      <td>NaN</td>\n",
       "      <td>NaN</td>\n",
       "      <td>NaN</td>\n",
       "      <td>NaN</td>\n",
       "      <td>NaN</td>\n",
       "      <td>NaN</td>\n",
       "      <td>NaN</td>\n",
       "    </tr>\n",
       "    <tr>\n",
       "      <th>age</th>\n",
       "      <td>6.0</td>\n",
       "      <td>NaN</td>\n",
       "      <td>NaN</td>\n",
       "      <td>NaN</td>\n",
       "      <td>33.666667</td>\n",
       "      <td>14.895189</td>\n",
       "      <td>19.0</td>\n",
       "      <td>23.0</td>\n",
       "      <td>29.5</td>\n",
       "      <td>41.25</td>\n",
       "      <td>58.0</td>\n",
       "    </tr>\n",
       "    <tr>\n",
       "      <th>gender</th>\n",
       "      <td>6</td>\n",
       "      <td>2</td>\n",
       "      <td>M</td>\n",
       "      <td>3</td>\n",
       "      <td>NaN</td>\n",
       "      <td>NaN</td>\n",
       "      <td>NaN</td>\n",
       "      <td>NaN</td>\n",
       "      <td>NaN</td>\n",
       "      <td>NaN</td>\n",
       "      <td>NaN</td>\n",
       "    </tr>\n",
       "    <tr>\n",
       "      <th>job</th>\n",
       "      <td>6</td>\n",
       "      <td>4</td>\n",
       "      <td>student</td>\n",
       "      <td>3</td>\n",
       "      <td>NaN</td>\n",
       "      <td>NaN</td>\n",
       "      <td>NaN</td>\n",
       "      <td>NaN</td>\n",
       "      <td>NaN</td>\n",
       "      <td>NaN</td>\n",
       "      <td>NaN</td>\n",
       "    </tr>\n",
       "    <tr>\n",
       "      <th>height</th>\n",
       "      <td>4.0</td>\n",
       "      <td>NaN</td>\n",
       "      <td>NaN</td>\n",
       "      <td>NaN</td>\n",
       "      <td>172.75</td>\n",
       "      <td>6.344289</td>\n",
       "      <td>165.0</td>\n",
       "      <td>169.5</td>\n",
       "      <td>173.0</td>\n",
       "      <td>176.25</td>\n",
       "      <td>180.0</td>\n",
       "    </tr>\n",
       "  </tbody>\n",
       "</table>\n",
       "</div>"
      ],
      "text/plain": [
       "       count unique      top freq       mean        std    min    25%    50%  \\\n",
       "name       6      6    peter    1        NaN        NaN    NaN    NaN    NaN   \n",
       "age      6.0    NaN      NaN  NaN  33.666667  14.895189   19.0   23.0   29.5   \n",
       "gender     6      2        M    3        NaN        NaN    NaN    NaN    NaN   \n",
       "job        6      4  student    3        NaN        NaN    NaN    NaN    NaN   \n",
       "height   4.0    NaN      NaN  NaN     172.75   6.344289  165.0  169.5  173.0   \n",
       "\n",
       "           75%    max  \n",
       "name       NaN    NaN  \n",
       "age      41.25   58.0  \n",
       "gender     NaN    NaN  \n",
       "job        NaN    NaN  \n",
       "height  176.25  180.0  "
      ]
     },
     "execution_count": 12,
     "metadata": {},
     "output_type": "execute_result"
    }
   ],
   "source": [
    "users.describe(include=\"all\").T"
   ]
  },
  {
   "cell_type": "code",
   "execution_count": 13,
   "id": "95ff74b7",
   "metadata": {},
   "outputs": [
    {
     "data": {
      "text/plain": [
       "(6, 5)"
      ]
     },
     "execution_count": 13,
     "metadata": {},
     "output_type": "execute_result"
    }
   ],
   "source": [
    "users.index   # \"Row names\"\n",
    "users.columns # column names\n",
    "users.dtypes  # data types of each column\n",
    "users.values  # underlying numpy array\n",
    "users.shape   # number of rows and columns"
   ]
  },
  {
   "cell_type": "markdown",
   "id": "7805703b",
   "metadata": {},
   "source": [
    "## 4- Columns Selection"
   ]
  },
  {
   "cell_type": "code",
   "execution_count": 14,
   "id": "e6b3263c",
   "metadata": {},
   "outputs": [
    {
     "data": {
      "text/plain": [
       "pandas.core.frame.DataFrame"
      ]
     },
     "execution_count": 14,
     "metadata": {},
     "output_type": "execute_result"
    }
   ],
   "source": [
    "users['gender']         # select one column\n",
    "type(users['gender'])   # Series\n",
    "users.gender            # select one column using the DataFrame\n",
    "\n",
    "# select multiple columns\n",
    "users[['age', 'gender']]        # select two columns\n",
    "my_cols = ['age', 'gender']     # or, create a list...\n",
    "users[my_cols]                  # ...and use that list to select columns\n",
    "type(users[my_cols])            # DataFrame"
   ]
  },
  {
   "cell_type": "markdown",
   "id": "5d4d05dd",
   "metadata": {},
   "source": [
    "## 5- Rows Selection"
   ]
  },
  {
   "cell_type": "code",
   "execution_count": 15,
   "id": "38d222db",
   "metadata": {},
   "outputs": [],
   "source": [
    "# iloc\n",
    "df = users.copy()\n",
    "df.iloc[0]     # first row\n",
    "df.iloc[0, :]  # first row\n",
    "df.iloc[0, 0]  # first item of first row\n",
    "df.iloc[0, 0] = 55"
   ]
  },
  {
   "cell_type": "code",
   "execution_count": 16,
   "id": "c46b0b8f",
   "metadata": {},
   "outputs": [],
   "source": [
    "# loc\n",
    "df.loc[0]         # first row\n",
    "df.loc[0, :]      # first row\n",
    "df.loc[0, \"age\"]  # age item of first row\n",
    "df.loc[0, \"age\"] = 55"
   ]
  },
  {
   "cell_type": "code",
   "execution_count": 17,
   "id": "df6270c4",
   "metadata": {},
   "outputs": [
    {
     "name": "stdout",
     "output_type": "stream",
     "text": [
      "    name  age gender        job  height\n",
      "0  alice   19      F    student   165.0\n",
      "3   paul   58      F    manager     NaN\n",
      "5  julie   44      F  scientist   171.0\n"
     ]
    }
   ],
   "source": [
    "# select females into a new df\n",
    "df = users[users.gender == \"F\"]\n",
    "print(df)"
   ]
  },
  {
   "cell_type": "code",
   "execution_count": 18,
   "id": "b0cdd344",
   "metadata": {},
   "outputs": [
    {
     "data": {
      "text/html": [
       "<div>\n",
       "<style scoped>\n",
       "    .dataframe tbody tr th:only-of-type {\n",
       "        vertical-align: middle;\n",
       "    }\n",
       "\n",
       "    .dataframe tbody tr th {\n",
       "        vertical-align: top;\n",
       "    }\n",
       "\n",
       "    .dataframe thead th {\n",
       "        text-align: right;\n",
       "    }\n",
       "</style>\n",
       "<table border=\"1\" class=\"dataframe\">\n",
       "  <thead>\n",
       "    <tr style=\"text-align: right;\">\n",
       "      <th></th>\n",
       "      <th>name</th>\n",
       "      <th>age</th>\n",
       "      <th>gender</th>\n",
       "      <th>job</th>\n",
       "      <th>height</th>\n",
       "    </tr>\n",
       "  </thead>\n",
       "  <tbody>\n",
       "    <tr>\n",
       "      <th>0</th>\n",
       "      <td>alice</td>\n",
       "      <td>19</td>\n",
       "      <td>F</td>\n",
       "      <td>student</td>\n",
       "      <td>165.0</td>\n",
       "    </tr>\n",
       "    <tr>\n",
       "      <th>3</th>\n",
       "      <td>paul</td>\n",
       "      <td>58</td>\n",
       "      <td>F</td>\n",
       "      <td>manager</td>\n",
       "      <td>NaN</td>\n",
       "    </tr>\n",
       "  </tbody>\n",
       "</table>\n",
       "</div>"
      ],
      "text/plain": [
       "    name  age gender      job  height\n",
       "0  alice   19      F  student   165.0\n",
       "3   paul   58      F  manager     NaN"
      ]
     },
     "execution_count": 18,
     "metadata": {},
     "output_type": "execute_result"
    }
   ],
   "source": [
    "# Get the two first rows using iloc\n",
    "df.iloc[[0, 1], :]  "
   ]
  },
  {
   "cell_type": "markdown",
   "id": "ee48343a",
   "metadata": {},
   "source": [
    "## 7- Rows Iteration"
   ]
  },
  {
   "cell_type": "markdown",
   "id": "086be20a",
   "metadata": {},
   "source": [
    "### iterrows(): slow, get series, read-only"
   ]
  },
  {
   "cell_type": "code",
   "execution_count": 19,
   "id": "c02ce82b",
   "metadata": {},
   "outputs": [],
   "source": [
    "df = users[:2].copy()"
   ]
  },
  {
   "cell_type": "code",
   "execution_count": 20,
   "id": "dd15e79c",
   "metadata": {},
   "outputs": [
    {
     "name": "stdout",
     "output_type": "stream",
     "text": [
      "alice 19\n",
      "john 26\n"
     ]
    }
   ],
   "source": [
    "for idx, row in df.iterrows():\n",
    "    print(row[\"name\"], row[\"age\"])"
   ]
  },
  {
   "cell_type": "markdown",
   "id": "beee4aa9",
   "metadata": {},
   "source": [
    "### itertuples(): fast, get namedtuples, read-only"
   ]
  },
  {
   "cell_type": "code",
   "execution_count": 21,
   "id": "1bcaf17c",
   "metadata": {},
   "outputs": [
    {
     "name": "stdout",
     "output_type": "stream",
     "text": [
      "alice 19\n",
      "john 26\n"
     ]
    }
   ],
   "source": [
    "for tup in df.itertuples():\n",
    "    print(tup[1], tup[2])"
   ]
  },
  {
   "cell_type": "markdown",
   "id": "4e087932",
   "metadata": {},
   "source": [
    "### iter using loc: read and write"
   ]
  },
  {
   "cell_type": "code",
   "execution_count": 22,
   "id": "152c9271",
   "metadata": {},
   "outputs": [],
   "source": [
    "for i in range(df.shape[0]):\n",
    "    df.loc[i, \"age\"] *= 10  # df is modified"
   ]
  },
  {
   "cell_type": "markdown",
   "id": "dea3b052",
   "metadata": {},
   "source": [
    "## 8- Rows selection (filtering)"
   ]
  },
  {
   "cell_type": "code",
   "execution_count": 24,
   "id": "4cc0fb96",
   "metadata": {},
   "outputs": [
    {
     "name": "stdout",
     "output_type": "stream",
     "text": [
      "    name  age gender      job  height\n",
      "0  alice   19      F  student   165.0\n"
     ]
    }
   ],
   "source": [
    "# simple logical filtering on numerical values\n",
    "users[users.age < 20]        # only show users with age < 20\n",
    "young_bool = users.age < 20  # or, create a Series of booleans...\n",
    "young = users[young_bool]            # ...and use that Series to filter rows\n",
    "users[users.age < 20].job    # select one column from the filtered results\n",
    "print(young)"
   ]
  },
  {
   "cell_type": "code",
   "execution_count": 25,
   "id": "fd696acc",
   "metadata": {},
   "outputs": [
    {
     "data": {
      "text/html": [
       "<div>\n",
       "<style scoped>\n",
       "    .dataframe tbody tr th:only-of-type {\n",
       "        vertical-align: middle;\n",
       "    }\n",
       "\n",
       "    .dataframe tbody tr th {\n",
       "        vertical-align: top;\n",
       "    }\n",
       "\n",
       "    .dataframe thead th {\n",
       "        text-align: right;\n",
       "    }\n",
       "</style>\n",
       "<table border=\"1\" class=\"dataframe\">\n",
       "  <thead>\n",
       "    <tr style=\"text-align: right;\">\n",
       "      <th></th>\n",
       "      <th>name</th>\n",
       "      <th>age</th>\n",
       "      <th>gender</th>\n",
       "      <th>job</th>\n",
       "      <th>height</th>\n",
       "    </tr>\n",
       "  </thead>\n",
       "  <tbody>\n",
       "    <tr>\n",
       "      <th>0</th>\n",
       "      <td>alice</td>\n",
       "      <td>19</td>\n",
       "      <td>F</td>\n",
       "      <td>student</td>\n",
       "      <td>165.0</td>\n",
       "    </tr>\n",
       "    <tr>\n",
       "      <th>1</th>\n",
       "      <td>john</td>\n",
       "      <td>26</td>\n",
       "      <td>M</td>\n",
       "      <td>student</td>\n",
       "      <td>180.0</td>\n",
       "    </tr>\n",
       "    <tr>\n",
       "      <th>2</th>\n",
       "      <td>eric</td>\n",
       "      <td>22</td>\n",
       "      <td>M</td>\n",
       "      <td>student</td>\n",
       "      <td>175.0</td>\n",
       "    </tr>\n",
       "    <tr>\n",
       "      <th>5</th>\n",
       "      <td>julie</td>\n",
       "      <td>44</td>\n",
       "      <td>F</td>\n",
       "      <td>scientist</td>\n",
       "      <td>171.0</td>\n",
       "    </tr>\n",
       "  </tbody>\n",
       "</table>\n",
       "</div>"
      ],
      "text/plain": [
       "    name  age gender        job  height\n",
       "0  alice   19      F    student   165.0\n",
       "1   john   26      M    student   180.0\n",
       "2   eric   22      M    student   175.0\n",
       "5  julie   44      F  scientist   171.0"
      ]
     },
     "execution_count": 25,
     "metadata": {},
     "output_type": "execute_result"
    }
   ],
   "source": [
    "# simple logical filtering on categorical values\n",
    "users[users.job == 'student']\n",
    "users[users.job.isin(['student', 'engineer'])]\n",
    "users[users['job'].str.contains(\"stu|scient\")]"
   ]
  },
  {
   "cell_type": "code",
   "execution_count": 26,
   "id": "bb0bb9b4",
   "metadata": {},
   "outputs": [
    {
     "data": {
      "text/html": [
       "<div>\n",
       "<style scoped>\n",
       "    .dataframe tbody tr th:only-of-type {\n",
       "        vertical-align: middle;\n",
       "    }\n",
       "\n",
       "    .dataframe tbody tr th {\n",
       "        vertical-align: top;\n",
       "    }\n",
       "\n",
       "    .dataframe thead th {\n",
       "        text-align: right;\n",
       "    }\n",
       "</style>\n",
       "<table border=\"1\" class=\"dataframe\">\n",
       "  <thead>\n",
       "    <tr style=\"text-align: right;\">\n",
       "      <th></th>\n",
       "      <th>name</th>\n",
       "      <th>age</th>\n",
       "      <th>gender</th>\n",
       "      <th>job</th>\n",
       "      <th>height</th>\n",
       "    </tr>\n",
       "  </thead>\n",
       "  <tbody>\n",
       "    <tr>\n",
       "      <th>1</th>\n",
       "      <td>john</td>\n",
       "      <td>26</td>\n",
       "      <td>M</td>\n",
       "      <td>student</td>\n",
       "      <td>180.0</td>\n",
       "    </tr>\n",
       "    <tr>\n",
       "      <th>2</th>\n",
       "      <td>eric</td>\n",
       "      <td>22</td>\n",
       "      <td>M</td>\n",
       "      <td>student</td>\n",
       "      <td>175.0</td>\n",
       "    </tr>\n",
       "    <tr>\n",
       "      <th>4</th>\n",
       "      <td>peter</td>\n",
       "      <td>33</td>\n",
       "      <td>M</td>\n",
       "      <td>engineer</td>\n",
       "      <td>NaN</td>\n",
       "    </tr>\n",
       "  </tbody>\n",
       "</table>\n",
       "</div>"
      ],
      "text/plain": [
       "    name  age gender       job  height\n",
       "1   john   26      M   student   180.0\n",
       "2   eric   22      M   student   175.0\n",
       "4  peter   33      M  engineer     NaN"
      ]
     },
     "execution_count": 26,
     "metadata": {},
     "output_type": "execute_result"
    }
   ],
   "source": [
    "# advancing logical filtering\n",
    "users[users.age < 20][['age', 'job']]            # select multiple columns\n",
    "users[(users.age > 20) & (users.gender == 'M')]  # use multiple conditions"
   ]
  },
  {
   "cell_type": "markdown",
   "id": "9a09476d",
   "metadata": {},
   "source": [
    "## 9- Sorting"
   ]
  },
  {
   "cell_type": "code",
   "execution_count": 27,
   "id": "eb535c60",
   "metadata": {},
   "outputs": [
    {
     "name": "stdout",
     "output_type": "stream",
     "text": [
      "    name  age gender        job  height\n",
      "4  peter   33      M   engineer     NaN\n",
      "3   paul   58      F    manager     NaN\n",
      "5  julie   44      F  scientist   171.0\n",
      "0  alice   19      F    student   165.0\n",
      "2   eric   22      M    student   175.0\n",
      "1   john   26      M    student   180.0\n"
     ]
    }
   ],
   "source": [
    "df = users.copy()\n",
    "df.age.sort_values() # only works for a Series\n",
    "df.sort_values(by='age') # sort rows by a specific column\n",
    "df.sort_values(by='age', ascending=False) # use descending order instead\n",
    "df.sort_values(by=['job', 'age']) # sort by multiple columns\n",
    "df.sort_values(by=['job', 'age'], inplace=True) # modify df\n",
    "print(df)"
   ]
  },
  {
   "cell_type": "markdown",
   "id": "e2dbe739",
   "metadata": {},
   "source": [
    "## 10- Descriptive Statistics"
   ]
  },
  {
   "cell_type": "code",
   "execution_count": 30,
   "id": "0f6a9e46",
   "metadata": {},
   "outputs": [
    {
     "name": "stdout",
     "output_type": "stream",
     "text": [
      "        count        mean        std    min    25%    50%     75%    max\n",
      "age       6.0   33.666667  14.895189   19.0   23.0   29.5   41.25   58.0\n",
      "height    4.0  172.750000   6.344289  165.0  169.5  173.0  176.25  180.0\n"
     ]
    }
   ],
   "source": [
    "# summarize all numeric columns\n",
    "print(df.describe().T)"
   ]
  },
  {
   "cell_type": "code",
   "execution_count": 36,
   "id": "1ad5283a",
   "metadata": {},
   "outputs": [
    {
     "name": "stdout",
     "output_type": "stream",
     "text": [
      "       count unique      top freq       mean        std    min    25%    50%  \\\n",
      "name       6      6    peter    1        NaN        NaN    NaN    NaN    NaN   \n",
      "age      6.0    NaN      NaN  NaN  33.666667  14.895189   19.0   23.0   29.5   \n",
      "gender     6      2        M    3        NaN        NaN    NaN    NaN    NaN   \n",
      "job        6      4  student    3        NaN        NaN    NaN    NaN    NaN   \n",
      "height   4.0    NaN      NaN  NaN     172.75   6.344289  165.0  169.5  173.0   \n",
      "\n",
      "           75%    max  \n",
      "name       NaN    NaN  \n",
      "age      41.25   58.0  \n",
      "gender     NaN    NaN  \n",
      "job        NaN    NaN  \n",
      "height  176.25  180.0  \n",
      "       count unique      top freq\n",
      "name       6      6    peter    1\n",
      "gender     6      2        M    3\n",
      "job        6      4  student    3\n"
     ]
    }
   ],
   "source": [
    "# summarize all columns\n",
    "print(df.describe(include='all').T)\n",
    "print(df.describe(include=['object']).T)  # limit to one (or more) types"
   ]
  },
  {
   "cell_type": "code",
   "execution_count": 39,
   "id": "a5c2bd7e",
   "metadata": {},
   "outputs": [
    {
     "name": "stdout",
     "output_type": "stream",
     "text": [
      "                 age      height\n",
      "job                             \n",
      "engineer   33.000000         NaN\n",
      "manager    58.000000         NaN\n",
      "scientist  44.000000  171.000000\n",
      "student    22.333333  173.333333\n",
      "job\n",
      "engineer     33.000000\n",
      "manager      58.000000\n",
      "scientist    44.000000\n",
      "student      22.333333\n",
      "Name: age, dtype: float64\n",
      "           name                                                   ... height  \\\n",
      "          count unique    top freq mean  std  min  25%  50%  75%  ... unique   \n",
      "job                                                               ...          \n",
      "engineer      1      1  peter    1  NaN  NaN  NaN  NaN  NaN  NaN  ...    NaN   \n",
      "manager       1      1   paul    1  NaN  NaN  NaN  NaN  NaN  NaN  ...    NaN   \n",
      "scientist     1      1  julie    1  NaN  NaN  NaN  NaN  NaN  NaN  ...    NaN   \n",
      "student       3      3   eric    1  NaN  NaN  NaN  NaN  NaN  NaN  ...    NaN   \n",
      "\n",
      "                                                                             \n",
      "          top freq        mean       std    min    25%    50%    75%    max  \n",
      "job                                                                          \n",
      "engineer  NaN  NaN         NaN       NaN    NaN    NaN    NaN    NaN    NaN  \n",
      "manager   NaN  NaN         NaN       NaN    NaN    NaN    NaN    NaN    NaN  \n",
      "scientist NaN  NaN  171.000000       NaN  171.0  171.0  171.0  171.0  171.0  \n",
      "student   NaN  NaN  173.333333  7.637626  165.0  170.0  175.0  177.5  180.0  \n",
      "\n",
      "[4 rows x 44 columns]\n"
     ]
    }
   ],
   "source": [
    "# Statistics per group (groupby)\n",
    "print(df.groupby(\"job\").mean())\n",
    "\n",
    "print(df.groupby(\"job\")[\"age\"].mean())\n",
    "\n",
    "print(df.groupby(\"job\").describe(include='all'))"
   ]
  },
  {
   "cell_type": "markdown",
   "id": "2c1cb444",
   "metadata": {},
   "source": [
    "## 11- Quality Check"
   ]
  },
  {
   "cell_type": "markdown",
   "id": "da1a5fef",
   "metadata": {},
   "source": [
    "### Remove duplicate data"
   ]
  },
  {
   "cell_type": "code",
   "execution_count": 40,
   "id": "70a8b04b",
   "metadata": {},
   "outputs": [
    {
     "name": "stdout",
     "output_type": "stream",
     "text": [
      "0    False\n",
      "1    False\n",
      "2    False\n",
      "3    False\n",
      "4    False\n",
      "5    False\n",
      "6     True\n",
      "dtype: bool\n"
     ]
    }
   ],
   "source": [
    "df = users.append(users.iloc[0], ignore_index=True)\n",
    "\n",
    "print(df.duplicated())                 # Series of booleans\n",
    "# (True if a row is identical to a previous row)\n",
    "df.duplicated().sum()                  # count of duplicates\n",
    "df[df.duplicated()]                    # only show duplicates\n",
    "df.age.duplicated()                    # check a single column for duplicates\n",
    "df.duplicated(['age', 'gender']).sum() # specify columns for finding duplicates\n",
    "df = df.drop_duplicates()              # drop duplicate rows"
   ]
  },
  {
   "cell_type": "markdown",
   "id": "9e16b5e0",
   "metadata": {},
   "source": [
    "### Missing data"
   ]
  },
  {
   "cell_type": "code",
   "execution_count": 41,
   "id": "d29af40b",
   "metadata": {},
   "outputs": [
    {
     "data": {
      "text/plain": [
       "name      0\n",
       "age       0\n",
       "gender    0\n",
       "job       0\n",
       "height    2\n",
       "dtype: int64"
      ]
     },
     "execution_count": 41,
     "metadata": {},
     "output_type": "execute_result"
    }
   ],
   "source": [
    "# Missing values are often just excluded\n",
    "df = users.copy()\n",
    "\n",
    "df.describe(include='all')\n",
    "\n",
    "# find missing values in a Series\n",
    "df.height.isnull()           # True if NaN, False otherwise\n",
    "df.height.notnull()          # False if NaN, True otherwise\n",
    "df[df.height.notnull()]      # only show rows where age is not NaN\n",
    "df.height.isnull().sum()     # count the missing values\n",
    "\n",
    "# find missing values in a DataFrame\n",
    "df.isnull()             # DataFrame of booleans\n",
    "df.isnull().sum()       # calculate the sum of each column"
   ]
  },
  {
   "cell_type": "markdown",
   "id": "d78dffa2",
   "metadata": {},
   "source": [
    "#### Strategy 1: drop missing values"
   ]
  },
  {
   "cell_type": "code",
   "execution_count": 42,
   "id": "06eb8448",
   "metadata": {},
   "outputs": [
    {
     "data": {
      "text/html": [
       "<div>\n",
       "<style scoped>\n",
       "    .dataframe tbody tr th:only-of-type {\n",
       "        vertical-align: middle;\n",
       "    }\n",
       "\n",
       "    .dataframe tbody tr th {\n",
       "        vertical-align: top;\n",
       "    }\n",
       "\n",
       "    .dataframe thead th {\n",
       "        text-align: right;\n",
       "    }\n",
       "</style>\n",
       "<table border=\"1\" class=\"dataframe\">\n",
       "  <thead>\n",
       "    <tr style=\"text-align: right;\">\n",
       "      <th></th>\n",
       "      <th>name</th>\n",
       "      <th>age</th>\n",
       "      <th>gender</th>\n",
       "      <th>job</th>\n",
       "      <th>height</th>\n",
       "    </tr>\n",
       "  </thead>\n",
       "  <tbody>\n",
       "    <tr>\n",
       "      <th>0</th>\n",
       "      <td>alice</td>\n",
       "      <td>19</td>\n",
       "      <td>F</td>\n",
       "      <td>student</td>\n",
       "      <td>165.0</td>\n",
       "    </tr>\n",
       "    <tr>\n",
       "      <th>1</th>\n",
       "      <td>john</td>\n",
       "      <td>26</td>\n",
       "      <td>M</td>\n",
       "      <td>student</td>\n",
       "      <td>180.0</td>\n",
       "    </tr>\n",
       "    <tr>\n",
       "      <th>2</th>\n",
       "      <td>eric</td>\n",
       "      <td>22</td>\n",
       "      <td>M</td>\n",
       "      <td>student</td>\n",
       "      <td>175.0</td>\n",
       "    </tr>\n",
       "    <tr>\n",
       "      <th>3</th>\n",
       "      <td>paul</td>\n",
       "      <td>58</td>\n",
       "      <td>F</td>\n",
       "      <td>manager</td>\n",
       "      <td>NaN</td>\n",
       "    </tr>\n",
       "    <tr>\n",
       "      <th>4</th>\n",
       "      <td>peter</td>\n",
       "      <td>33</td>\n",
       "      <td>M</td>\n",
       "      <td>engineer</td>\n",
       "      <td>NaN</td>\n",
       "    </tr>\n",
       "    <tr>\n",
       "      <th>5</th>\n",
       "      <td>julie</td>\n",
       "      <td>44</td>\n",
       "      <td>F</td>\n",
       "      <td>scientist</td>\n",
       "      <td>171.0</td>\n",
       "    </tr>\n",
       "  </tbody>\n",
       "</table>\n",
       "</div>"
      ],
      "text/plain": [
       "    name  age gender        job  height\n",
       "0  alice   19      F    student   165.0\n",
       "1   john   26      M    student   180.0\n",
       "2   eric   22      M    student   175.0\n",
       "3   paul   58      F    manager     NaN\n",
       "4  peter   33      M   engineer     NaN\n",
       "5  julie   44      F  scientist   171.0"
      ]
     },
     "execution_count": 42,
     "metadata": {},
     "output_type": "execute_result"
    }
   ],
   "source": [
    "df.dropna()             # drop a row if ANY values are missing\n",
    "df.dropna(how='all')    # drop a row only if ALL values are missing"
   ]
  },
  {
   "cell_type": "markdown",
   "id": "060dcee3",
   "metadata": {},
   "source": [
    "#### Strategy 2: fill in missing values"
   ]
  },
  {
   "cell_type": "code",
   "execution_count": 43,
   "id": "77d1c033",
   "metadata": {},
   "outputs": [
    {
     "name": "stdout",
     "output_type": "stream",
     "text": [
      "    name  age gender        job  height\n",
      "0  alice   19      F    student  165.00\n",
      "1   john   26      M    student  180.00\n",
      "2   eric   22      M    student  175.00\n",
      "3   paul   58      F    manager  172.75\n",
      "4  peter   33      M   engineer  172.75\n",
      "5  julie   44      F  scientist  171.00\n"
     ]
    }
   ],
   "source": [
    "df.height.mean()\n",
    "df = users.copy()\n",
    "df.loc[df.height.isnull(), \"height\"] = df[\"height\"].mean()\n",
    "\n",
    "print(df)"
   ]
  },
  {
   "cell_type": "markdown",
   "id": "b62356e4",
   "metadata": {},
   "source": [
    "## 12- Operation: Multiplication"
   ]
  },
  {
   "cell_type": "code",
   "execution_count": 44,
   "id": "1035f031",
   "metadata": {},
   "outputs": [
    {
     "name": "stdout",
     "output_type": "stream",
     "text": [
      "   random   name  age gender        job  height\n",
      "0       0  alice   19      F    student   165.0\n",
      "1       1   john   26      M    student   180.0\n",
      "2       2   eric   22      M    student   175.0\n",
      "5       3  julie   44      F  scientist   171.0\n"
     ]
    },
    {
     "data": {
      "text/html": [
       "<div>\n",
       "<style scoped>\n",
       "    .dataframe tbody tr th:only-of-type {\n",
       "        vertical-align: middle;\n",
       "    }\n",
       "\n",
       "    .dataframe tbody tr th {\n",
       "        vertical-align: top;\n",
       "    }\n",
       "\n",
       "    .dataframe thead th {\n",
       "        text-align: right;\n",
       "    }\n",
       "</style>\n",
       "<table border=\"1\" class=\"dataframe\">\n",
       "  <thead>\n",
       "    <tr style=\"text-align: right;\">\n",
       "      <th></th>\n",
       "      <th>age</th>\n",
       "      <th>height</th>\n",
       "    </tr>\n",
       "  </thead>\n",
       "  <tbody>\n",
       "    <tr>\n",
       "      <th>0</th>\n",
       "      <td>0</td>\n",
       "      <td>0.0</td>\n",
       "    </tr>\n",
       "    <tr>\n",
       "      <th>1</th>\n",
       "      <td>26</td>\n",
       "      <td>180.0</td>\n",
       "    </tr>\n",
       "    <tr>\n",
       "      <th>2</th>\n",
       "      <td>44</td>\n",
       "      <td>350.0</td>\n",
       "    </tr>\n",
       "    <tr>\n",
       "      <th>5</th>\n",
       "      <td>132</td>\n",
       "      <td>513.0</td>\n",
       "    </tr>\n",
       "  </tbody>\n",
       "</table>\n",
       "</div>"
      ],
      "text/plain": [
       "   age  height\n",
       "0    0     0.0\n",
       "1   26   180.0\n",
       "2   44   350.0\n",
       "5  132   513.0"
      ]
     },
     "execution_count": 44,
     "metadata": {},
     "output_type": "execute_result"
    }
   ],
   "source": [
    "# element-wise\n",
    "df = users.dropna()\n",
    "df.insert(0, 'random', np.arange(df.shape[0]))\n",
    "print(df)\n",
    "df[[\"age\", \"height\"]].multiply(df[\"random\"], axis=\"index\")"
   ]
  },
  {
   "cell_type": "markdown",
   "id": "496db526",
   "metadata": {},
   "source": [
    "## 13- Renaming"
   ]
  },
  {
   "cell_type": "code",
   "execution_count": 45,
   "id": "123c7e7e",
   "metadata": {},
   "outputs": [
    {
     "data": {
      "text/html": [
       "<div>\n",
       "<style scoped>\n",
       "    .dataframe tbody tr th:only-of-type {\n",
       "        vertical-align: middle;\n",
       "    }\n",
       "\n",
       "    .dataframe tbody tr th {\n",
       "        vertical-align: top;\n",
       "    }\n",
       "\n",
       "    .dataframe thead th {\n",
       "        text-align: right;\n",
       "    }\n",
       "</style>\n",
       "<table border=\"1\" class=\"dataframe\">\n",
       "  <thead>\n",
       "    <tr style=\"text-align: right;\">\n",
       "      <th></th>\n",
       "      <th>NAME</th>\n",
       "      <th>age</th>\n",
       "      <th>gender</th>\n",
       "      <th>job</th>\n",
       "      <th>height</th>\n",
       "    </tr>\n",
       "  </thead>\n",
       "  <tbody>\n",
       "    <tr>\n",
       "      <th>0</th>\n",
       "      <td>alice</td>\n",
       "      <td>19</td>\n",
       "      <td>F</td>\n",
       "      <td>student</td>\n",
       "      <td>165.0</td>\n",
       "    </tr>\n",
       "    <tr>\n",
       "      <th>1</th>\n",
       "      <td>john</td>\n",
       "      <td>26</td>\n",
       "      <td>M</td>\n",
       "      <td>student</td>\n",
       "      <td>180.0</td>\n",
       "    </tr>\n",
       "    <tr>\n",
       "      <th>2</th>\n",
       "      <td>eric</td>\n",
       "      <td>22</td>\n",
       "      <td>M</td>\n",
       "      <td>student</td>\n",
       "      <td>175.0</td>\n",
       "    </tr>\n",
       "    <tr>\n",
       "      <th>3</th>\n",
       "      <td>paul</td>\n",
       "      <td>58</td>\n",
       "      <td>F</td>\n",
       "      <td>manager</td>\n",
       "      <td>NaN</td>\n",
       "    </tr>\n",
       "    <tr>\n",
       "      <th>4</th>\n",
       "      <td>peter</td>\n",
       "      <td>33</td>\n",
       "      <td>M</td>\n",
       "      <td>engineer</td>\n",
       "      <td>NaN</td>\n",
       "    </tr>\n",
       "    <tr>\n",
       "      <th>5</th>\n",
       "      <td>julie</td>\n",
       "      <td>44</td>\n",
       "      <td>F</td>\n",
       "      <td>scientist</td>\n",
       "      <td>171.0</td>\n",
       "    </tr>\n",
       "  </tbody>\n",
       "</table>\n",
       "</div>"
      ],
      "text/plain": [
       "    NAME  age gender        job  height\n",
       "0  alice   19      F    student   165.0\n",
       "1   john   26      M    student   180.0\n",
       "2   eric   22      M    student   175.0\n",
       "3   paul   58      F    manager     NaN\n",
       "4  peter   33      M   engineer     NaN\n",
       "5  julie   44      F  scientist   171.0"
      ]
     },
     "execution_count": 45,
     "metadata": {},
     "output_type": "execute_result"
    }
   ],
   "source": [
    "# rename columns\n",
    "df = users.copy()\n",
    "df.rename(columns={'name': 'NAME'})"
   ]
  },
  {
   "cell_type": "code",
   "execution_count": 46,
   "id": "f3642260",
   "metadata": {},
   "outputs": [],
   "source": [
    "# Rename values\n",
    "df.job = df.job.map({'student': 'etudiant', 'manager': 'manager',\n",
    "                     'engineer': 'ingenieur', 'scientist': 'scientific'})"
   ]
  },
  {
   "cell_type": "markdown",
   "id": "4f65d0c1",
   "metadata": {},
   "source": [
    "## 14- Dealing with Outliers"
   ]
  },
  {
   "cell_type": "code",
   "execution_count": 47,
   "id": "652cdf7d",
   "metadata": {},
   "outputs": [],
   "source": [
    "size = pd.Series(np.random.normal(loc=175, size=20, scale=10))\n",
    "# Corrupt the first 3 measures\n",
    "size[:3] += 500"
   ]
  },
  {
   "cell_type": "markdown",
   "id": "361995c1",
   "metadata": {},
   "source": [
    "### Based on parametric statistics: use the mean\n",
    "- Assume random variable follows the normal distribution Exclude data outside 3 standard-deviations: - Probability that a sample lies within 1 sd: 68.27% - Probability that a sample lies within 3 sd: 99.73% (68.27 + 2 * 15.73)"
   ]
  },
  {
   "cell_type": "code",
   "execution_count": 48,
   "id": "3042837e",
   "metadata": {},
   "outputs": [
    {
     "name": "stdout",
     "output_type": "stream",
     "text": [
      "250.0329616680643\n"
     ]
    }
   ],
   "source": [
    "size_outlr_mean = size.copy()\n",
    "size_outlr_mean[((size - size.mean()).abs() > 3 * size.std())] = size.mean()\n",
    "print(size_outlr_mean.mean())"
   ]
  },
  {
   "cell_type": "markdown",
   "id": "76111984",
   "metadata": {},
   "source": [
    "### Based on non-parametric statistics: use the median"
   ]
  },
  {
   "cell_type": "code",
   "execution_count": 49,
   "id": "3d65aaf0",
   "metadata": {},
   "outputs": [
    {
     "name": "stdout",
     "output_type": "stream",
     "text": [
      "175.56350771521792 175.59431008311768\n"
     ]
    }
   ],
   "source": [
    "mad = 1.4826 * np.median(np.abs(size - size.median()))\n",
    "size_outlr_mad = size.copy()\n",
    "\n",
    "size_outlr_mad[((size - size.median()).abs() > 3 * mad)] = size.median()\n",
    "print(size_outlr_mad.mean(), size_outlr_mad.median())"
   ]
  },
  {
   "cell_type": "markdown",
   "id": "807d28bf",
   "metadata": {},
   "source": [
    "## 15- File I/O"
   ]
  },
  {
   "cell_type": "markdown",
   "id": "94363325",
   "metadata": {},
   "source": [
    "### csv"
   ]
  },
  {
   "cell_type": "code",
   "execution_count": 50,
   "id": "cc43ee9e",
   "metadata": {},
   "outputs": [],
   "source": [
    "import tempfile, os.path\n",
    "\n",
    "tmpdir = tempfile.gettempdir()\n",
    "csv_filename = os.path.join(tmpdir, \"users.csv\")\n",
    "users.to_csv(csv_filename, index=False)\n",
    "other = pd.read_csv(csv_filename)"
   ]
  },
  {
   "cell_type": "code",
   "execution_count": 51,
   "id": "02fbb640",
   "metadata": {},
   "outputs": [],
   "source": [
    "# read csv from url\n",
    "url = 'https://github.com/duchesnay/pystatsml/raw/master/datasets/salary_table.csv'\n",
    "salary = pd.read_csv(url)"
   ]
  },
  {
   "cell_type": "markdown",
   "id": "72bdf2dd",
   "metadata": {},
   "source": [
    "### excel "
   ]
  },
  {
   "cell_type": "code",
   "execution_count": 52,
   "id": "7edd7eab",
   "metadata": {},
   "outputs": [
    {
     "data": {
      "text/html": [
       "<div>\n",
       "<style scoped>\n",
       "    .dataframe tbody tr th:only-of-type {\n",
       "        vertical-align: middle;\n",
       "    }\n",
       "\n",
       "    .dataframe tbody tr th {\n",
       "        vertical-align: top;\n",
       "    }\n",
       "\n",
       "    .dataframe thead th {\n",
       "        text-align: right;\n",
       "    }\n",
       "</style>\n",
       "<table border=\"1\" class=\"dataframe\">\n",
       "  <thead>\n",
       "    <tr style=\"text-align: right;\">\n",
       "      <th></th>\n",
       "      <th>name</th>\n",
       "      <th>age</th>\n",
       "      <th>gender</th>\n",
       "      <th>job</th>\n",
       "      <th>height</th>\n",
       "    </tr>\n",
       "  </thead>\n",
       "  <tbody>\n",
       "    <tr>\n",
       "      <th>0</th>\n",
       "      <td>alice</td>\n",
       "      <td>19</td>\n",
       "      <td>F</td>\n",
       "      <td>etudiant</td>\n",
       "      <td>165.0</td>\n",
       "    </tr>\n",
       "    <tr>\n",
       "      <th>1</th>\n",
       "      <td>john</td>\n",
       "      <td>26</td>\n",
       "      <td>M</td>\n",
       "      <td>etudiant</td>\n",
       "      <td>180.0</td>\n",
       "    </tr>\n",
       "    <tr>\n",
       "      <th>2</th>\n",
       "      <td>eric</td>\n",
       "      <td>22</td>\n",
       "      <td>M</td>\n",
       "      <td>etudiant</td>\n",
       "      <td>175.0</td>\n",
       "    </tr>\n",
       "    <tr>\n",
       "      <th>3</th>\n",
       "      <td>paul</td>\n",
       "      <td>58</td>\n",
       "      <td>F</td>\n",
       "      <td>manager</td>\n",
       "      <td>NaN</td>\n",
       "    </tr>\n",
       "    <tr>\n",
       "      <th>4</th>\n",
       "      <td>peter</td>\n",
       "      <td>33</td>\n",
       "      <td>M</td>\n",
       "      <td>ingenieur</td>\n",
       "      <td>NaN</td>\n",
       "    </tr>\n",
       "    <tr>\n",
       "      <th>5</th>\n",
       "      <td>julie</td>\n",
       "      <td>44</td>\n",
       "      <td>F</td>\n",
       "      <td>scientific</td>\n",
       "      <td>171.0</td>\n",
       "    </tr>\n",
       "  </tbody>\n",
       "</table>\n",
       "</div>"
      ],
      "text/plain": [
       "    name  age gender         job  height\n",
       "0  alice   19      F    etudiant   165.0\n",
       "1   john   26      M    etudiant   180.0\n",
       "2   eric   22      M    etudiant   175.0\n",
       "3   paul   58      F     manager     NaN\n",
       "4  peter   33      M   ingenieur     NaN\n",
       "5  julie   44      F  scientific   171.0"
      ]
     },
     "execution_count": 52,
     "metadata": {},
     "output_type": "execute_result"
    }
   ],
   "source": [
    "xls_filename = os.path.join(tmpdir, \"users.xlsx\")\n",
    "users.to_excel(xls_filename, sheet_name='users', index=False)\n",
    "\n",
    "pd.read_excel(xls_filename, sheet_name='users')\n",
    "\n",
    "# Multiple sheets\n",
    "with pd.ExcelWriter(xls_filename) as writer:\n",
    "    users.to_excel(writer, sheet_name='users', index=False)\n",
    "    df.to_excel(writer, sheet_name='salary', index=False)\n",
    "\n",
    "pd.read_excel(xls_filename, sheet_name='users')\n",
    "pd.read_excel(xls_filename, sheet_name='salary')"
   ]
  }
 ],
 "metadata": {
  "kernelspec": {
   "display_name": "Python 3",
   "language": "python",
   "name": "python3"
  },
  "language_info": {
   "codemirror_mode": {
    "name": "ipython",
    "version": 3
   },
   "file_extension": ".py",
   "mimetype": "text/x-python",
   "name": "python",
   "nbconvert_exporter": "python",
   "pygments_lexer": "ipython3",
   "version": "3.8.8"
  }
 },
 "nbformat": 4,
 "nbformat_minor": 5
}
